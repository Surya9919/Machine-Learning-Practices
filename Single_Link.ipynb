{
 "cells": [
  {
   "cell_type": "code",
   "execution_count": 15,
   "metadata": {},
   "outputs": [],
   "source": [
    "import numpy as np\n",
    "import pandas as pd"
   ]
  },
  {
   "cell_type": "code",
   "execution_count": 16,
   "metadata": {},
   "outputs": [],
   "source": [
    "def Index(Min,Dis_Mat):\n",
    "    global Cluster,index1,index2,object\n",
    "    temp=[]\n",
    "    for i in range(0,len(object)):\n",
    "        for j in range(i+1,len(object)):\n",
    "            if(Dis_Mat[object[i]][object[j]]==Min):\n",
    "                temp.append(object[i])\n",
    "                temp.append(object[j])\n",
    "                index1=object[i]\n",
    "                index2=object[j]\n",
    "                object=np.delete(object,j)\n",
    "                Cluster.append(temp)\n",
    "                print(\"Cluster\",Cluster)\n",
    "                return"
   ]
  },
  {
   "cell_type": "code",
   "execution_count": 17,
   "metadata": {},
   "outputs": [],
   "source": [
    "def Min(Dis_Mat):\n",
    "    arr=np.array(Dis_Mat)\n",
    "    Min=np.min(arr[np.nonzero(arr)])\n",
    "    print(Min)\n",
    "    Index(Min,Dis_Mat)\n",
    "    return"
   ]
  },
  {
   "cell_type": "code",
   "execution_count": 18,
   "metadata": {},
   "outputs": [],
   "source": [
    "def Drop_Dist():\n",
    "    global Dis_Mat,index1,index2\n",
    "    Min(Dis_Mat)\n",
    "    if(len(Dis_Mat)>3):\n",
    "        Dis_Mat[index1]=np.minimum(Dis_Mat[index1],Dis_Mat[index2])\n",
    "        Dis_Mat.iloc[index1]=np.minimum(Dis_Mat.iloc[index1],Dis_Mat.iloc[index2])\n",
    "        Dis_Mat=Dis_Mat.drop(columns=index2,index=index2)\n",
    "        print(Dis_Mat)\n",
    "        Drop_Dist()\n",
    "        return\n",
    "    return\n",
    "    "
   ]
  },
  {
   "cell_type": "code",
   "execution_count": 19,
   "metadata": {},
   "outputs": [],
   "source": [
    "def Cal_Dis(df):\n",
    "    global Dis_Mat\n",
    "    for i in range(len(df)):\n",
    "        for j in range(len(df)):\n",
    "            Dis_Mat[i][j]=np.sqrt(((df['X'][i]-df['X'][j])**2)+((df['Y'][i]-df['Y'][j])**2))\n",
    "    print(Dis_Mat)\n",
    "    Drop_Dist()\n",
    "    return"
   ]
  },
  {
   "cell_type": "code",
   "execution_count": 20,
   "metadata": {},
   "outputs": [],
   "source": [
    "def Fin_Clu(Cluster,Cluster_Fin):\n",
    "    for i in range(len(Cluster)-1):\n",
    "        temp1=set()\n",
    "        for j in range(2):\n",
    "            if(Cluster[i][j]==Cluster[i+1][j] or Cluster[i][i+1]==Cluster[i+1][i]):\n",
    "                temp1.update(Cluster[i],Cluster[i+1])\n",
    "                break\n",
    "        Cluster_Fin[i]=list(temp1)\n",
    "        print(f\"Cluster {(i+1)}\",Cluster_Fin[i])\n",
    "    return"
   ]
  },
  {
   "cell_type": "code",
   "execution_count": 21,
   "metadata": {},
   "outputs": [
    {
     "name": "stdout",
     "output_type": "stream",
     "text": [
      "   OBJECT   X   Y\n",
      "0       0   1   4\n",
      "1       1   2   8\n",
      "2       2   5  10\n",
      "3       3  12  18\n",
      "4       4  14  28\n",
      "OBJECT          0          1          2          3          4\n",
      "0             0.0   4.123106   7.211103  17.804494  27.294688\n",
      "1        4.123106        0.0   3.605551  14.142136  23.323808\n",
      "2        7.211103   3.605551        0.0  10.630146  20.124612\n",
      "3       17.804494  14.142136  10.630146        0.0  10.198039\n",
      "4       27.294688  23.323808  20.124612  10.198039        0.0\n",
      "3.605551275463989\n",
      "Cluster [[1, 2]]\n",
      "OBJECT          0          1          3          4\n",
      "0             0.0   4.123106  17.804494  27.294688\n",
      "1        4.123106        0.0  10.630146  20.124612\n",
      "3       17.804494  10.630146        0.0  10.198039\n",
      "4       27.294688  20.124612  10.198039        0.0\n",
      "4.123105625617661\n",
      "Cluster [[1, 2], [0, 1]]\n",
      "OBJECT          0          3          4\n",
      "0             0.0  10.630146  20.124612\n",
      "3       10.630146        0.0  10.198039\n",
      "4       20.124612  10.198039        0.0\n",
      "10.198039027185569\n",
      "Cluster [[1, 2], [0, 1], [3, 4]]\n"
     ]
    }
   ],
   "source": [
    "df=pd.read_csv(\"Linkage.csv\")\n",
    "print(df)\n",
    "global index1,index2,object\n",
    "Cluster_Fin=[[0 for i in range(0)] for j in range(int(len(df)/2))]\n",
    "index1=index2=0\n",
    "Dis_Mat = pd.DataFrame(columns=df['OBJECT'],index=range(len(df)))\n",
    "Cluster=[]\n",
    "object=np.array(df['OBJECT'])\n",
    "Cal_Dis(df)\n",
    "# print(Cluster[1])\n",
    "# Fin_Clu(Cluster,Cluster_Fin)\n",
    "# print(Fin_Clu)\n",
    "# print(Cluster[2][0])"
   ]
  }
 ],
 "metadata": {
  "kernelspec": {
   "display_name": "base",
   "language": "python",
   "name": "python3"
  },
  "language_info": {
   "codemirror_mode": {
    "name": "ipython",
    "version": 3
   },
   "file_extension": ".py",
   "mimetype": "text/x-python",
   "name": "python",
   "nbconvert_exporter": "python",
   "pygments_lexer": "ipython3",
   "version": "3.9.13 (main, Aug 25 2022, 23:51:50) [MSC v.1916 64 bit (AMD64)]"
  },
  "orig_nbformat": 4,
  "vscode": {
   "interpreter": {
    "hash": "1960ac14023d5e43c9c0c90c2107231139d9766740fd51f3b9b39f7b96ea5acc"
   }
  }
 },
 "nbformat": 4,
 "nbformat_minor": 2
}
