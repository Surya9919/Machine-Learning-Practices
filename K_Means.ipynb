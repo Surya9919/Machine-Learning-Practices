{
 "cells": [
  {
   "cell_type": "code",
   "execution_count": 60,
   "metadata": {},
   "outputs": [],
   "source": [
    "import numpy as np\n",
    "import pandas as pd"
   ]
  },
  {
   "cell_type": "code",
   "execution_count": 61,
   "metadata": {},
   "outputs": [],
   "source": [
    "#Read Dataset\n",
    "df=pd.read_csv(\"K_Means.csv\")"
   ]
  },
  {
   "cell_type": "code",
   "execution_count": 62,
   "metadata": {},
   "outputs": [],
   "source": [
    "#Check Centroid Values for Next Iteration\n",
    "def Check_Centroid():\n",
    "    global Centroid1x,Centroid1y,Centroid2x,Centroid2y,X,Y\n",
    "    global Old_Cluster1,Old_Cluster2\n",
    "    x1=y1=x2=y2=0\n",
    "    for i in range(len(df)):\n",
    "        if(df['Cluster'][i]=='C1'):\n",
    "            x1=x1+X[i]\n",
    "            y1=y1+Y[i]\n",
    "        else:\n",
    "            x2=x2+X[i]\n",
    "            y2=y2+Y[i]\n",
    "    Centroid1x=x1/len(Old_Cluster1)\n",
    "    Centroid1y=y1/len(Old_Cluster1)\n",
    "    Centroid2x=x2/len(Old_Cluster2)\n",
    "    Centroid2y=y2/len(Old_Cluster2)\n",
    "    return"
   ]
  },
  {
   "cell_type": "code",
   "execution_count": 63,
   "metadata": {},
   "outputs": [],
   "source": [
    "#Calculate Distance and Clustering the DataPoints\n",
    "def Distance():\n",
    "    \n",
    "    global Cluster1,Cluster2,iter\n",
    "    iter+=1\n",
    "    Cluster2=[]\n",
    "    Cluster1=[]\n",
    "    for i in range(len(df)):\n",
    "        global X,Y,Centroid1x,Centroid1y,Centroid2x,Centroid2y,Old_Cluster1,Old_Cluster2\n",
    "        R1=np.sqrt(((X[i]-Centroid1x)**2)+((Y[i]-Centroid1y)**2))\n",
    "        R2=np.sqrt(((X[i]-Centroid2x)**2)+((Y[i]-Centroid2y)**2))\n",
    "        if(R1<R2):\n",
    "            Cluster1.append(i)\n",
    "            df['Cluster'][i]='C1'\n",
    "        else:\n",
    "            Cluster2.append(i)\n",
    "            df['Cluster'][i]='C2'\n",
    "    print(f\"Centroid: \\nX1:%d Y1:%d\\nX2:%d Y2:%d\"%(Centroid1x,Centroid1y,Centroid2x,Centroid2y))\n",
    "    print(Cluster1,Cluster2)\n",
    "    print(f\"Iteration :{iter}\\n\",df)\n",
    "    if(Old_Cluster1==Cluster1 and Old_Cluster2==Cluster2):\n",
    "        return\n",
    "    else:\n",
    "        # Old_Cluster1.clear()\n",
    "        # Old_Cluster2.clear()\n",
    "        Old_Cluster1=Cluster1\n",
    "        Old_Cluster2=Cluster2\n",
    "        Check_Centroid()\n",
    "        Distance()\n",
    "    return"
   ]
  },
  {
   "cell_type": "code",
   "execution_count": 64,
   "metadata": {},
   "outputs": [
    {
     "name": "stdout",
     "output_type": "stream",
     "text": [
      "Centroid: \n",
      "X1:2 Y1:4\n",
      "X2:12 Y2:4\n",
      "[0, 1, 2] [3, 4]\n",
      "Iteration :1\n",
      "    OBJECT   X  Y Cluster\n",
      "0       1   2  4      C1\n",
      "1       2   4  6      C1\n",
      "2       3   6  8      C1\n",
      "3       4  10  4      C2\n",
      "4       5  12  4      C2\n",
      "Centroid: \n",
      "X1:4 Y1:6\n",
      "X2:11 Y2:4\n",
      "[0, 1, 2] [3, 4]\n",
      "Iteration :2\n",
      "    OBJECT   X  Y Cluster\n",
      "0       1   2  4      C1\n",
      "1       2   4  6      C1\n",
      "2       3   6  8      C1\n",
      "3       4  10  4      C2\n",
      "4       5  12  4      C2\n"
     ]
    }
   ],
   "source": [
    "df=df.sort_values(by=['X'], ascending=True)\n",
    "iter=0\n",
    "X=df['X']\n",
    "Y=df['Y']\n",
    "Old_Cluster1=[]\n",
    "Old_Cluster2=[]\n",
    "df['Cluster']=0\n",
    "Centroid1x=X[0]\n",
    "Centroid1y=Y[0]\n",
    "Centroid2x=X[len(df)-1]\n",
    "Centroid2y=Y[len(df)-1]\n",
    "Distance()"
   ]
  }
 ],
 "metadata": {
  "kernelspec": {
   "display_name": "base",
   "language": "python",
   "name": "python3"
  },
  "language_info": {
   "codemirror_mode": {
    "name": "ipython",
    "version": 3
   },
   "file_extension": ".py",
   "mimetype": "text/x-python",
   "name": "python",
   "nbconvert_exporter": "python",
   "pygments_lexer": "ipython3",
   "version": "3.9.13 (main, Aug 25 2022, 23:51:50) [MSC v.1916 64 bit (AMD64)]"
  },
  "orig_nbformat": 4,
  "vscode": {
   "interpreter": {
    "hash": "1960ac14023d5e43c9c0c90c2107231139d9766740fd51f3b9b39f7b96ea5acc"
   }
  }
 },
 "nbformat": 4,
 "nbformat_minor": 2
}
